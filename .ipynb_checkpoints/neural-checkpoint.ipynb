{
 "cells": [
  {
   "cell_type": "code",
   "execution_count": 16,
   "metadata": {},
   "outputs": [],
   "source": [
    "import numpy as np\n",
    "from scipy.optimize import minimize\n",
    "from math import sqrt\n",
    "import pandas as pd\n",
    "\n",
    "def initializeWeights(n_in, n_out):\n",
    "    epsilon = sqrt(6) / sqrt(n_in + n_out + 1)\n",
    "    W = (np.random.rand(n_out, n_in + 1) * 2 * epsilon) - epsilon\n",
    "    return W\n",
    "\n",
    "\n",
    "def sigmoid(z):\n",
    "    sig = 1/(1+np.exp(np.multiply(-1,z)))\n",
    "\n",
    "    return  sig\n",
    "\n",
    "\n",
    "def preprocess():\n",
    "    global obj_sub\n",
    "    obj = pd.read_csv('data/FullData.csv',encoding='cp1252')\n",
    "    obj_sub = obj.loc[obj[\"Club_Position\"]==\"Sub\"]\n",
    "    obj = obj.loc[(obj[\"Club_Position\"]!=\"Sub\") &  \\\n",
    "                  (obj[\"Club_Position\"]!=\"Res\") & \\\n",
    "                  (obj[\"Club_Position\"].notna())]\n",
    "    features = obj.iloc[:,17:53]\n",
    "    labels = obj.iloc[:,5]\n",
    "#    CAM   CB  CDM   CF   CM   GK  LAM   LB  LCB  LCM  LDM   LF   LM   LS   LW \n",
    "#   1  315   83  119    4   79  632   36  549  631  354  266   12  414  205  133 \n",
    "# LWB  RAM   RB  RCB  RCM  RDM  Res   RF   RM   RS   RW  RWB   ST  Sub\n",
    "#    positions = {\"CAM\":0, \"CB\":1, \"CDM\":2, \"CF\":3, \"CM\":4, \"GK\":5, \"LAM\":6,\n",
    "#                 \"LB\":7, \"LCB\":8, \"LCM\":9, \"LDM\":10, \"LF\":11, \"LM\":12, \"LS\":13,\n",
    "#                 \"LW\":14, \"LWB\":15, \"RAM\":16, \"RB\":17, \"RCB\":18, \"RCM\":19, \n",
    "#                 \"RDM\":20, \"RF\":21, \"RM\":22, \"RS\":23, \"RW\":24, \"RWB\":25,\"ST\":26,}\n",
    "    \n",
    "    positions = {\"CAM\":1, \"CB\":2, \"CDM\":1, \"CF\":0, \"CM\":1, \"GK\":3, \"LAM\":1,\n",
    "                 \"LB\":2, \"LCB\":2, \"LCM\":1, \"LDM\":1, \"LF\":0, \"LM\":1, \"LS\":0,\n",
    "                 \"LW\":0, \"LWB\":2, \"RAM\":1, \"RB\":2, \"RCB\":2, \"RCM\":1, \n",
    "                 \"RDM\":1, \"RF\":0, \"RM\":1, \"RS\":0, \"RW\":0, \"RWB\":2,\"ST\":0,}\n",
    "\n",
    "    features = features.reindex(np.random.permutation(features.index))\n",
    "\n",
    "    \n",
    "    train_x = features[0:4169]\n",
    "    valid_x = features[4169:5558]\n",
    "    test_x = features[5558:]\n",
    "\n",
    "    labels = labels.T\n",
    "    train_l = np.zeros((train_x.shape[0],27))\n",
    "    labels_train = labels[train_x.index].map(positions)\n",
    "    for i in range(train_l.shape[0]):\n",
    "        train_l[i,labels_train.iloc[i]] = 1\n",
    "        \n",
    "    valid_l = np.zeros((valid_x.shape[0],27))\n",
    "    labels_valid = labels[valid_x.index].map(positions)\n",
    "    for i in range(valid_l.shape[0]):\n",
    "        valid_l[i,labels_valid.iloc[i]] = 1\n",
    "        \n",
    "    test_l = np.zeros((test_x.shape[0],27))\n",
    "    labels_test = labels[test_x.index].map(positions)\n",
    "    for i in range(test_l.shape[0]):\n",
    "        test_l[i,labels_test.iloc[i]] = 1\n",
    "\n",
    "    return train_x, labels_train, valid_x, labels_valid, test_x, labels_test\n",
    "    #return train_x, train_l, valid_x, valid_l, test_x, test_l\n",
    "\n",
    "\n",
    "def nnObjFunction(params, *args):\n",
    "\n",
    "\n",
    "    n_input, n_hidden, n_class, training_data, training_label, lambdaval = args\n",
    "\n",
    "    w1 = params[0:n_hidden * (n_input + 1)].reshape((n_hidden, (n_input + 1)))\n",
    "    w2 = params[(n_hidden * (n_input + 1)):].reshape((n_class, (n_hidden + 1)))\n",
    "    obj_val = 0\n",
    "\n",
    "    lines = training_data.shape[0]\n",
    "    #add bias\n",
    "    a1 = np.c_[np.ones(lines), training_data]\n",
    "    \n",
    "    a2 = np.dot(a1, w1.T)\n",
    "    z2 = sigmoid(a2)\n",
    "    #add bias\n",
    "    z2 = np.c_[np.ones(z2.shape[0]), z2]\n",
    "    \n",
    "    a3 = np.dot(z2, w2.T)\n",
    "    z3 = sigmoid(a3)\n",
    "    \n",
    "    #label = training_label\n",
    "    label = np.zeros([lines, n_class])\n",
    "    for line in range(lines):\n",
    "        label[line][int(training_label.iloc[line])] = 1\n",
    "        \n",
    "    obj_val = (1/lines) * np.sum((-1.0 * label * np.log(z3) - (1.0 - label) *\\\n",
    "                                 np.log(1.0 - z3))) + (lambdaval / 2 / lines) * \\\n",
    "                                 ((w1[:,1:] ** 2).sum() + (w2[:,1:] ** 2).sum())\n",
    "                                 \n",
    "    #gradiance\n",
    "    w1_grad = np.zeros(w1.shape)\n",
    "    w2_grad = np.zeros(w2.shape)\n",
    "    for t in range(lines):\n",
    "        a1 = np.vstack([1, training_data.iloc[t].reshape(n_input, 1)]) \n",
    "        a2 = np.dot(w1, a1)      \n",
    "        z2 = sigmoid(a2)         \n",
    "        z2 = np.vstack([1, z2])  \n",
    "        a3 = np.dot(w2, z2)      \n",
    "        z3 = sigmoid(a3)         \n",
    "        yy = np.arange(n_class)\n",
    "        yy = np.double(yy == training_label.iloc[t]).reshape(n_class, 1)  \n",
    "        delta3 = z3 - yy      \n",
    "        delta2 = np.multiply(np.dot(w2.T, delta3), \n",
    "                             np.vstack([1, np.multiply(sigmoid(a2), 1.0 - sigmoid(a2))]))  \n",
    "        delta2 = delta2[1:]      \n",
    "        \n",
    "        w2_grad = w2_grad + delta3 * z2.reshape(1, n_hidden + 1) \n",
    "        w1_grad = w1_grad + delta2 * a1.reshape(1, n_input + 1)        \n",
    "    \n",
    "    w2_grad = 1/lines * w2_grad + lambdaval/lines * w2\n",
    "    w1_grad = 1/lines * w1_grad + lambdaval/lines * w1\n",
    "\n",
    "    # Make sure you reshape the gradient matrices to a 1D array. for instance if your gradient matrices are grad_w1 and grad_w2\n",
    "    # you would use code similar to the one below to create a flat array\n",
    "    # obj_grad = np.concatenate((grad_w1.flatten(), grad_w2.flatten()),0)\n",
    "    obj_grad = np.concatenate((w1_grad.flatten(), w2_grad.flatten()),0)\n",
    "    return (obj_val, obj_grad)\n",
    "\n",
    "\n",
    "def nnPredict(w1, w2, data):\n",
    "    labels = np.array([])\n",
    "    # Your code here\n",
    "    for i in range(data.shape[0]):\n",
    "        #add bias\n",
    "        row = np.r_[1,data.iloc[i]]\n",
    "        a1 = np.dot(row,w1.T)\n",
    "        z1 = sigmoid(a1)\n",
    "        \n",
    "        #add bias\n",
    "        z1 = np.r_[1,z1]\n",
    "        a2 = np.dot(z1,w2.T)\n",
    "        z2 = sigmoid(a2)\n",
    "        labels = np.append(labels,np.argmax(z2))\n",
    "#    data = np.r_(np.ones(1,data.shape[1]),data)\n",
    "#    a1 = np.dot(data,w1.T)\n",
    "#    z1 = sigmoid(a1)\n",
    "#    z1 = np.r_(np.ones(1,a1.shape[1]),a1)\n",
    "#    a2 = np.dot(z1,w2.T)\n",
    "#    z2 = sigmoid(a2)\n",
    "#    labels = np.argmax(z2,axis = 1)\n",
    "    return labels\n"
   ]
  },
  {
   "cell_type": "code",
   "execution_count": 17,
   "metadata": {},
   "outputs": [
    {
     "name": "stderr",
     "output_type": "stream",
     "text": [
      "C:\\Users\\Marti\\Anaconda3\\lib\\site-packages\\ipykernel_launcher.py:97: FutureWarning: reshape is deprecated and will raise in a subsequent release. Please use .values.reshape(...) instead\n"
     ]
    },
    {
     "name": "stdout",
     "output_type": "stream",
     "text": [
      "\n",
      " Training set Accuracy:86.95130726792996%\n",
      "\n",
      " Validation set Accuracy:87.97696184305256%\n",
      "\n",
      " Test set Accuracy:85.69374550682963%\n"
     ]
    }
   ],
   "source": [
    "selected_features = []\n",
    "train_data, train_label, validation_data, validation_label, test_data, test_label = preprocess()\n",
    "\n",
    "#  Train Neural Network\n",
    "\n",
    "# set the number of nodes in input unit (not including bias unit)\n",
    "n_input = train_data.shape[1]\n",
    "\n",
    "# set the number of nodes in hidden unit (not including bias unit)\n",
    "n_hidden = 50\n",
    "\n",
    "# set the number of nodes in output unit\n",
    "n_class = 4\n",
    "\n",
    "# initialize the weights into some random matrices\n",
    "initial_w1 = initializeWeights(n_input, n_hidden)\n",
    "initial_w2 = initializeWeights(n_hidden, n_class)\n",
    "\n",
    "# unroll 2 weight matrices into single column vector\n",
    "initialWeights = np.concatenate((initial_w1.flatten(), initial_w2.flatten()), 0)\n",
    "\n",
    "# set the regularization hyper-parameter\n",
    "#lambdaval = 0\n",
    "#lambdaval = 0.4\n",
    "#lambdaval = 0.8\n",
    "lambdaval = 0.2\n",
    "\n",
    "args = (n_input, n_hidden, n_class, train_data, train_label, lambdaval)\n",
    "\n",
    "# Train Neural Network using fmin_cg or minimize from scipy,optimize module. Check documentation for a working example\n",
    "\n",
    "opts = {'maxiter': 100}  # Preferred value.\n",
    "\n",
    "nn_params = minimize(nnObjFunction, initialWeights, jac=True, args=args, method='CG', options=opts)\n",
    "\n",
    "# In Case you want to use fmin_cg, you may have to split the nnObjectFunction to two functions nnObjFunctionVal\n",
    "# and nnObjGradient. Check documentation for this function before you proceed.\n",
    "# nn_params, cost = fmin_cg(nnObjFunctionVal, initialWeights, nnObjGradient,args = args, maxiter = 50)\n",
    "\n",
    "\n",
    "# Reshape nnParams from 1D vector into w1 and w2 matrices\n",
    "w1 = nn_params.x[0:n_hidden * (n_input + 1)].reshape((n_hidden, (n_input + 1)))\n",
    "w2 = nn_params.x[(n_hidden * (n_input + 1)):].reshape((n_class, (n_hidden + 1)))\n",
    "\n",
    "# Test the computed parameters\n",
    "\n",
    "predicted_label = nnPredict(w1, w2, train_data)\n",
    "\n",
    "# find the accuracy on Training Dataset\n",
    "\n",
    "print('\\n Training set Accuracy:' + str(100 * np.mean((predicted_label == train_label).astype(float))) + '%')\n",
    "\n",
    "predicted_label = nnPredict(w1, w2, validation_data)\n",
    "\n",
    "# find the accuracy on Validation Dataset\n",
    "\n",
    "print('\\n Validation set Accuracy:' + str(100 * np.mean((predicted_label == validation_label).astype(float))) + '%')\n",
    "\n",
    "predicted_label = nnPredict(w1, w2, test_data)\n",
    "\n",
    "# find the accuracy on Validation Dataset\n",
    "\n",
    "print('\\n Test set Accuracy:' + str(100 * np.mean((predicted_label == test_label).astype(float))) + '%')\n"
   ]
  },
  {
   "cell_type": "code",
   "execution_count": 7,
   "metadata": {},
   "outputs": [
    {
     "name": "stdout",
     "output_type": "stream",
     "text": [
      "Jérôme Boateng:backward\n",
      "Claudio Marchisio:middlefield\n",
      "Cesc Fàbregas:middlefield\n",
      "Franck Ribéry:middlefield\n",
      "Santi Cazorla:middlefield\n",
      "Andrea Barzagli:backward\n",
      "İlkay Gündoğan:middlefield\n",
      "Willian:middlefield\n",
      "Juan Mata:middlefield\n",
      "Vincent Kompany:backward\n",
      "Raphaël Varane:backward\n",
      "Isco:middlefield\n",
      "Nicolás Gaitán:middlefield\n",
      "Sergio Asenjo:GK\n",
      "Medhi Benatia:backward\n",
      "Steve Mandanda:GK\n",
      "Dani Alves:backward\n",
      "Arda Turan:middlefield\n"
     ]
    }
   ],
   "source": [
    "sub_feature = obj_sub.iloc[:,17:53]\n",
    "sub_pred_labels = nnPredict(w1, w2, sub_feature)\n",
    "m = {0:\"forward\", 1:\"middlefield\", 2:\"backward\", 3:'GK'}\n",
    "for i in range(int(sub_pred_labels.shape[0]/400)):\n",
    "    row = sub_pred_labels[i]\n",
    "    print(f\"{obj_sub.iloc[i,0]}:{m[row]}\")"
   ]
  },
  {
   "cell_type": "code",
   "execution_count": 18,
   "metadata": {},
   "outputs": [],
   "source": [
    "def preprocess_face():\n",
    "    obj = pd.read_csv('faces_pca.csv')\n",
    "    obj = obj.reindex(np.random.permutation(obj.index))\n",
    "    features = obj.iloc[:,:-2]\n",
    "    labels = obj['sex']\n",
    "    faces_num = obj.shape[0]\n",
    "    train_x = features.iloc[0:round(faces_num*0.6),:]\n",
    "    valid_x = features.iloc[round(faces_num*0.6):round(faces_num*0.8),:]\n",
    "    test_x = features.iloc[round(faces_num*0.8):,:]\n",
    "\n",
    "    train_y = labels[train_x.index]\n",
    "    valid_y = labels[valid_x.index]\n",
    "    test_y = labels[test_x.index]\n",
    "    return train_x, train_y, valid_x, valid_y, test_x, test_y"
   ]
  },
  {
   "cell_type": "code",
   "execution_count": 19,
   "metadata": {},
   "outputs": [
    {
     "name": "stderr",
     "output_type": "stream",
     "text": [
      "C:\\Users\\Marti\\Anaconda3\\lib\\site-packages\\ipykernel_launcher.py:97: FutureWarning: reshape is deprecated and will raise in a subsequent release. Please use .values.reshape(...) instead\n"
     ]
    },
    {
     "name": "stdout",
     "output_type": "stream",
     "text": [
      "\n",
      " Training set Accuracy:100.0%\n",
      "\n",
      " Validation set Accuracy:95.65217391304348%\n",
      "\n",
      " Test set Accuracy:97.36842105263158%\n"
     ]
    }
   ],
   "source": [
    "train_data, train_label, validation_data, validation_label, test_data, test_label = preprocess_face()\n",
    "n_input = train_data.shape[1]\n",
    "# set the number of nodes in hidden unit (not including bias unit)\n",
    "n_hidden = 256\n",
    "# set the number of nodes in output unit\n",
    "n_class = 2\n",
    "\n",
    "# initialize the weights into some random matrices\n",
    "initial_w1 = initializeWeights(n_input, n_hidden);\n",
    "initial_w2 = initializeWeights(n_hidden, n_class);\n",
    "# unroll 2 weight matrices into single column vector\n",
    "initialWeights = np.concatenate((initial_w1.flatten(), initial_w2.flatten()),0)\n",
    "# set the regularization hyper-parameter\n",
    "lambdaval = 10;\n",
    "args = (n_input, n_hidden, n_class, train_data, train_label, lambdaval)\n",
    "\n",
    "#Train Neural Network using fmin_cg or minimize from scipy,optimize module. Check documentation for a working example\n",
    "opts = {'maxiter' :50}    # Preferred value.\n",
    "\n",
    "nn_params = minimize(nnObjFunction, initialWeights, jac=True, args=args,method='CG', options=opts)\n",
    "params = nn_params.get('x')\n",
    "#Reshape nnParams from 1D vector into w1 and w2 matrices\n",
    "w1 = params[0:n_hidden * (n_input + 1)].reshape( (n_hidden, (n_input + 1)))\n",
    "w2 = params[(n_hidden * (n_input + 1)):].reshape((n_class, (n_hidden + 1)))\n",
    "\n",
    "#Test the computed parameters\n",
    "predicted_label = nnPredict(w1,w2,train_data)\n",
    "#find the accuracy on Training Dataset\n",
    "print('\\n Training set Accuracy:' + str(100*np.mean((predicted_label == train_label).astype(float))) + '%')\n",
    "predicted_label = nnPredict(w1,w2,validation_data)\n",
    "#find the accuracy on Validation Dataset\n",
    "print('\\n Validation set Accuracy:' + str(100*np.mean((predicted_label == validation_label).astype(float))) + '%')\n",
    "predicted_label = nnPredict(w1,w2,test_data)\n",
    "#find the accuracy on Validation Dataset\n",
    "print('\\n Test set Accuracy:' +  str(100*np.mean((predicted_label == test_label).astype(float))) + '%')\n"
   ]
  },
  {
   "cell_type": "code",
   "execution_count": 20,
   "metadata": {},
   "outputs": [],
   "source": [
    "import matplotlib.pyplot as plt\n",
    "import matplotlib.image as mpimg"
   ]
  },
  {
   "cell_type": "code",
   "execution_count": 23,
   "metadata": {},
   "outputs": [],
   "source": [
    "obj = pd.read_csv('faces_pca.csv')"
   ]
  },
  {
   "cell_type": "code",
   "execution_count": 22,
   "metadata": {},
   "outputs": [
    {
     "data": {
      "image/png": "[encoded data removed]",
      "text/plain": [
       "<matplotlib.figure.Figure at 0x24ac6cdeac8>"
      ]
     },
     "metadata": {},
     "output_type": "display_data"
    }
   ],
   "source": [
    "male1 = \"Alexis Snchez\"\n",
    "img=mpimg.imread(f'data/Pictures/{male1}.png')\n",
    "imgplot = plt.imshow(img)\n",
    "plt.show()"
   ]
  },
  {
   "cell_type": "code",
   "execution_count": 28,
   "metadata": {},
   "outputs": [],
   "source": [
    "feature1 = obj.loc[obj[\"name\"] == male1].iloc[:,:-2]"
   ]
  },
  {
   "cell_type": "code",
   "execution_count": 29,
   "metadata": {},
   "outputs": [],
   "source": [
    "predicted_label = nnPredict(w1,w2,feature1)"
   ]
  },
  {
   "cell_type": "code",
   "execution_count": 43,
   "metadata": {},
   "outputs": [
    {
     "data": {
      "text/plain": [
       "'male'"
      ]
     },
     "execution_count": 43,
     "metadata": {},
     "output_type": "execute_result"
    }
   ],
   "source": [
    "\"male\" if (predicted_label[0] == 0) else \"female\""
   ]
  },
  {
   "cell_type": "code",
   "execution_count": 49,
   "metadata": {},
   "outputs": [
    {
     "data": {
      "image/png": "[encoded data removed]",
      "text/plain": [
       "<matplotlib.figure.Figure at 0x24ac6cded30>"
      ]
     },
     "metadata": {},
     "output_type": "display_data"
    }
   ],
   "source": [
    "female1 = \"Andrine Tomter\"\n",
    "img=mpimg.imread(f'data/Pictures_f/{female1}.png')\n",
    "imgplot = plt.imshow(img)\n",
    "plt.show()"
   ]
  },
  {
   "cell_type": "code",
   "execution_count": 51,
   "metadata": {},
   "outputs": [
    {
     "data": {
      "text/plain": [
       "'female'"
      ]
     },
     "execution_count": 51,
     "metadata": {},
     "output_type": "execute_result"
    }
   ],
   "source": [
    "feature2 = obj.loc[obj[\"name\"] == female1].iloc[:,:-2]\n",
    "predicted_label2 = nnPredict(w1,w2,feature2)\n",
    "\"male\" if (predicted_label2[0] == 0) else \"female\""
   ]
  },
  {
   "cell_type": "code",
   "execution_count": 52,
   "metadata": {},
   "outputs": [
    {
     "data": {
      "image/png": "[encoded data removed]",
      "text/plain": [
       "<matplotlib.figure.Figure at 0x24ac38f32e8>"
      ]
     },
     "metadata": {},
     "output_type": "display_data"
    }
   ],
   "source": [
    "female2 = \"Adrianna Franch\"\n",
    "img=mpimg.imread(f'data/Pictures_f/{female2}.png')\n",
    "imgplot = plt.imshow(img)\n",
    "plt.show()"
   ]
  },
  {
   "cell_type": "code",
   "execution_count": 54,
   "metadata": {},
   "outputs": [
    {
     "data": {
      "text/plain": [
       "'female'"
      ]
     },
     "execution_count": 54,
     "metadata": {},
     "output_type": "execute_result"
    }
   ],
   "source": [
    "feature2 = obj.loc[obj[\"name\"] == female2].iloc[:,:-2]\n",
    "predicted_label2 = nnPredict(w1,w2,feature2)\n",
    "\"male\" if (predicted_label2[0] == 0) else \"female\""
   ]
  }
 ],
 "metadata": {
  "kernelspec": {
   "display_name": "Python 3",
   "language": "python",
   "name": "python3"
  },
  "language_info": {
   "codemirror_mode": {
    "name": "ipython",
    "version": 3
   },
   "file_extension": ".py",
   "mimetype": "text/x-python",
   "name": "python",
   "nbconvert_exporter": "python",
   "pygments_lexer": "ipython3",
   "version": "3.6.3"
  }
 },
 "nbformat": 4,
 "nbformat_minor": 2
}
